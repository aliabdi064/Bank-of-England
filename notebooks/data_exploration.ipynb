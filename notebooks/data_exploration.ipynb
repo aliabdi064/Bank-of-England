     1 import pandas as pd
     2 import matplotlib.pyplot as plt
     3 import seaborn as sns
     4 
     5 # Ensure df_filtered is available from previous steps
     6 # If running this cell independently, you might need to re-run the data loading and cleaning cells first.
     7 
     8 print("\n--- Section 4: Exploratory Data Analysis (EDA) ---")
     9 
    10 # --- 4.1 Data Overview ---
    11 print("\n4.1 Data Overview:")
    12 print(f"Shape of the filtered data: {df_filtered.shape}")
    13 print("\nDataFrame Info:")
    14 df_filtered.info()
    15 
    16 print("\nMissing Values (Count and Percentage):")
    17 missing_data = df_filtered.isnull().sum()
    18 missing_percentage = (df_filtered.isnull().sum() / len(df_filtered)) * 100
    19 missing_info = pd.DataFrame({'Missing Count': missing_data, 'Missing Percentage (%)': missing_percentage})
    20 print(missing_info[missing_info['Missing Count'] > 0])
    21 
    22 
    23 # --- 4.2 Descriptive Statistics ---
    24 print("\n4.2 Descriptive Statistics:")
    25 print("\nDescriptive Statistics for Numerical Columns:")
    26 print(df_filtered.describe())
    27 
    28 print("\nValue Counts for Categorical Columns:")
    29 for col in ['Property Type', 'Old/New', 'Duration', 'PPD Category Type', 'Record Status']:
    30     if col in df_filtered.columns:
    31         print(f"\n--- {col} ---")
    32         print(df_filtered[col].value_counts())
    33 
    34 
    35 # --- 4.3 Distribution of Key Variables ---
    36 print("\n4.3 Distribution of Key Variables:")
    37 
    38 # Distribution of Price
    39 plt.figure(figsize=(16, 6))
    40 
    41 plt.subplot(1, 2, 1)
    42 sns.histplot(df_filtered['Price'], bins=50, kde=True)
    43 plt.title('Distribution of Price')
    44 plt.xlabel('Price (£)')
    45 plt.ylabel('Frequency')
    46 plt.ticklabel_format(style='plain', axis='x') # Prevent scientific notation on x-axis
    47 
    48 plt.subplot(1, 2, 2)
    49 sns.boxplot(y=df_filtered['Price'])
    50 plt.title('Box Plot of Price')
    51 plt.ylabel('Price (£)')
    52 plt.ticklabel_format(style='plain', axis='y') # Prevent scientific notation on y-axis
    53 plt.show()
    54 
    55 # Note: Price distribution is often skewed, consider log transformation if needed for modeling.
    56 # sns.histplot(np.log1p(df_filtered['Price']), bins=50, kde=True) # Example for log transform
    57 
    58 # Distribution of Property Type
    59 plt.figure(figsize=(8, 6))
    60 sns.countplot(data=df_filtered, x='Property Type', order=df_filtered['Property Type'].value_counts().index)
    61 plt.title('Distribution of Property Types')
    62 plt.xlabel('Property Type')
    63 plt.ylabel('Count')
    64 plt.show()
    65 
    66 # Distribution of Old/New
    67 plt.figure(figsize=(6, 5))
    68 sns.countplot(data=df_filtered, x='Old/New')
    69 plt.title('Distribution of Old/New Properties')
    70 plt.xlabel('Old/New')
    71 plt.ylabel('Count')
    72 plt.show()
    73 
    74 # Distribution of Duration
    75 plt.figure(figsize=(6, 5))
    76 sns.countplot(data=df_filtered, x='Duration')
    77 plt.title('Distribution of Property Duration (Tenure)')
    78 plt.xlabel('Duration')
    79 plt.ylabel('Count')
    80 plt.show()
    81 
    82 
    83 # --- 4.4 Relationships with Price ---
    84 print("\n4.4 Relationships with Price:")
    85 
    86 # Price vs. Property Type
    87 plt.figure(figsize=(10, 6))
    88 sns.boxplot(data=df_filtered, x='Property Type', y='Price', order=df_filtered['Property Type'].value_counts().index)
    89 plt.title('Price Distribution by Property Type')
    90 plt.xlabel('Property Type')
    91 plt.ylabel('Price (£)')
    92 plt.yscale('log') # Log scale often helps visualize skewed price data
    93 plt.ticklabel_format(style='plain', axis='y')
    94 plt.show()
    95 
    96 # Price vs. Old/New
    97 plt.figure(figsize=(8, 6))
    98 sns.boxplot(data=df_filtered, x='Old/New', y='Price')
    99 plt.title('Price Distribution by Old/New Property Status')
   100 plt.xlabel('Old/New')
   101 plt.ylabel('Price (£)')
   102 plt.yscale('log')
   103 plt.ticklabel_format(style='plain', axis='y')
   104 plt.show()
   105 
   106 # Price vs. Duration
   107 plt.figure(figsize=(8, 6))
   108 sns.boxplot(data=df_filtered, x='Duration', y='Price')
   109 plt.title('Price Distribution by Duration (Tenure)')
   110 plt.xlabel('Duration')
   111 plt.ylabel('Price (£)')
   112 plt.yscale('log')
   113 plt.ticklabel_format(style='plain', axis='y')
   114 plt.show()
   115 
   116 # Price vs. Year (Average Price Trend)
   117 plt.figure(figsize=(12, 7))
   118 avg_price_per_year = df_filtered.groupby('year')['Price'].mean().reset_index()
   119 sns.lineplot(data=avg_price_per_year, x='year', y='Price', marker='o')
   120 plt.title('Average House Price Trend by Year (2015-2024)')
   121 plt.xlabel('Year')
   122 plt.ylabel('Average Price (£)')
   123 plt.grid(True)
   124 plt.ticklabel_format(style='plain', axis='y')
   125 plt.show()
   126 
   127 # Price vs. is_post_covid
   128 plt.figure(figsize=(8, 6))
   129 sns.boxplot(data=df_filtered, x='is_post_covid', y='Price')
   130 plt.title('Price Distribution: Pre-COVID vs. Post-COVID (from March 2020)')
   131 plt.xlabel('Is Post-COVID (True if >= Mar 2020)')
   132 plt.ylabel('Price (£)')
   133 plt.yscale('log')
   134 plt.ticklabel_format(style='plain', axis='y')
   135 plt.show()
   136 
   137 
   138 # --- 4.5 Geographical Analysis ---
   139 print("\n4.5 Geographical Analysis:")
   140 
   141 # Top 15 Towns by Average Price
   142 top_towns = df_filtered.groupby('Town')['Price'].mean().nlargest(15).reset_index()
   143 plt.figure(figsize=(12, 8))
   144 sns.barplot(x='Price', y='Town', data=top_towns)
   145 plt.title('Top 15 Towns by Average House Price (2015-2024)')
   146 plt.xlabel('Average Price (£)')
   147 plt.ylabel('Town')
   148 plt.ticklabel_format(style='plain', axis='x')
   149 plt.tight_layout()
   150 plt.show()
   151 
   152 # Top 15 Counties by Average Price (already done in previous section, but good to reiterate for EDA)
   153 top_counties = df_filtered.groupby('County')['Price'].mean().nlargest(15).reset_index()
   154 plt.figure(figsize=(12, 8))
   155 sns.barplot(x='Price', y='County', data=top_counties)
   156 plt.title('Top 15 Counties by Average House Price (2015-2024)')
   157 plt.xlabel('Average Price (£)')
   158 plt.ylabel('County')
   159 plt.ticklabel_format(style='plain', axis='x')
   160 plt.tight_layout()
   161 plt.show()
   162 
   163 print("\nEDA complete. Review the plots and printed outputs for insights.")

